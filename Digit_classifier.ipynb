{
 "cells": [
  {
   "cell_type": "code",
   "execution_count": 1,
   "metadata": {},
   "outputs": [],
   "source": [
    "import Network\n",
    "import loading_data"
   ]
  },
  {
   "cell_type": "code",
   "execution_count": 2,
   "metadata": {},
   "outputs": [],
   "source": [
    "training_data, validation_data, test_data = loading_data.load_data_wrapper()\n",
    "net = Network.network([784, 30, 10])"
   ]
  },
  {
   "cell_type": "code",
   "execution_count": 3,
   "metadata": {},
   "outputs": [
    {
     "name": "stdout",
     "output_type": "stream",
     "text": [
      "Epoch 0: 7962 / 10000\n",
      "Epoch 1: 8243 / 10000\n",
      "Epoch 2: 9105 / 10000\n",
      "Epoch 3: 9183 / 10000\n",
      "Epoch 4: 9224 / 10000\n",
      "Epoch 5: 9279 / 10000\n",
      "Epoch 6: 9273 / 10000\n",
      "Epoch 7: 9309 / 10000\n",
      "Epoch 8: 9314 / 10000\n",
      "Epoch 9: 9326 / 10000\n",
      "Epoch 10: 9355 / 10000\n",
      "Epoch 11: 9355 / 10000\n",
      "Epoch 12: 9355 / 10000\n",
      "Epoch 13: 9387 / 10000\n",
      "Epoch 14: 9374 / 10000\n",
      "Epoch 15: 9397 / 10000\n",
      "Epoch 16: 9393 / 10000\n",
      "Epoch 17: 9403 / 10000\n",
      "Epoch 18: 9411 / 10000\n",
      "Epoch 19: 9403 / 10000\n",
      "Epoch 20: 9424 / 10000\n",
      "Epoch 21: 9430 / 10000\n",
      "Epoch 22: 9421 / 10000\n",
      "Epoch 23: 9408 / 10000\n",
      "Epoch 24: 9415 / 10000\n",
      "Epoch 25: 9433 / 10000\n",
      "Epoch 26: 9439 / 10000\n",
      "Epoch 27: 9424 / 10000\n",
      "Epoch 28: 9441 / 10000\n",
      "Epoch 29: 9450 / 10000\n"
     ]
    }
   ],
   "source": [
    "net.SGD(training_data,30,10,1.0, test_data = test_data)"
   ]
  },
  {
   "cell_type": "code",
   "execution_count": null,
   "metadata": {},
   "outputs": [],
   "source": []
  }
 ],
 "metadata": {
  "kernelspec": {
   "display_name": "Python 3",
   "language": "python",
   "name": "python3"
  },
  "language_info": {
   "codemirror_mode": {
    "name": "ipython",
    "version": 3
   },
   "file_extension": ".py",
   "mimetype": "text/x-python",
   "name": "python",
   "nbconvert_exporter": "python",
   "pygments_lexer": "ipython3",
   "version": "3.8.5"
  }
 },
 "nbformat": 4,
 "nbformat_minor": 4
}
